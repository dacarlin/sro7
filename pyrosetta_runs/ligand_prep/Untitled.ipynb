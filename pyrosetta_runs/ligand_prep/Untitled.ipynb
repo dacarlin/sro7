{
 "cells": [
  {
   "cell_type": "code",
   "execution_count": 3,
   "metadata": {},
   "outputs": [],
   "source": [
    "! cp /Users/alex/Downloads/Structure3D_CID_5202.sdf . "
   ]
  },
  {
   "cell_type": "code",
   "execution_count": 11,
   "metadata": {},
   "outputs": [
    {
     "name": "stdout",
     "output_type": "stream",
     "text": [
      "Centering ligands at (   0.000,   -0.000,    0.000)\n",
      "Atom names contain duplications -- renaming all atoms.\n",
      "WARNING:  structure contains double bonds but no aromatic bonds\n",
      "  Aromatic bonds must be identified explicitly --\n",
      "  alternating single/double bonds (Kekule structure) won't cut it.\n",
      "  This warning does not apply to you if your molecule really isn't aromatic.\n",
      "Total naive charge -0.460, desired charge 0.000, offsetting all atoms by 0.018\n",
      "WARNING: fragment 1 has 25 total atoms including H; protein residues have 7 - 24 (DNA: 33)\n",
      "Average 25.0 atoms (13.0 non-H atoms) per fragment\n",
      "(Proteins average 15.5 atoms (7.8 non-H atoms) per residue)\n",
      "WARNING:  no root atom specified, using NBR atom instead.\n",
      "Wrote PDB file LG_0001.pdb\n",
      "Wrote params file LG.params\n"
     ]
    }
   ],
   "source": [
    "! python2 /Users/alex/Applications/main/source/scripts/python/public/molfile_to_params.py Structure3D_CID_5202.sdf "
   ]
  },
  {
   "cell_type": "code",
   "execution_count": 12,
   "metadata": {},
   "outputs": [
    {
     "name": "stdout",
     "output_type": "stream",
     "text": [
      "LG.params                Structure3D_CID_5202.sdf\r\n",
      "LG_0001.pdb              Untitled.ipynb\r\n"
     ]
    }
   ],
   "source": [
    "! ls "
   ]
  },
  {
   "cell_type": "code",
   "execution_count": 13,
   "metadata": {
    "collapsed": true
   },
   "outputs": [],
   "source": [
    "! open LG_0001.pdb"
   ]
  },
  {
   "cell_type": "code",
   "execution_count": 14,
   "metadata": {
    "collapsed": true
   },
   "outputs": [],
   "source": [
    "! open ../../raw_collect/*pdb"
   ]
  },
  {
   "cell_type": "code",
   "execution_count": null,
   "metadata": {
    "collapsed": true
   },
   "outputs": [],
   "source": []
  }
 ],
 "metadata": {
  "kernelspec": {
   "display_name": "Python 3",
   "language": "python",
   "name": "python3"
  },
  "language_info": {
   "codemirror_mode": {
    "name": "ipython",
    "version": 3
   },
   "file_extension": ".py",
   "mimetype": "text/x-python",
   "name": "python",
   "nbconvert_exporter": "python",
   "pygments_lexer": "ipython3",
   "version": "3.5.3"
  }
 },
 "nbformat": 4,
 "nbformat_minor": 2
}
